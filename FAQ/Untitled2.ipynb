{
  "nbformat": 4,
  "nbformat_minor": 0,
  "metadata": {
    "colab": {
      "provenance": []
    },
    "kernelspec": {
      "name": "python3",
      "display_name": "Python 3"
    },
    "language_info": {
      "name": "python"
    }
  },
  "cells": [
    {
      "cell_type": "code",
      "source": [
        "!pip install -U sentence-transformers\n"
      ],
      "metadata": {
        "id": "32I7pu17PGhn"
      },
      "execution_count": null,
      "outputs": []
    },
    {
      "cell_type": "code",
      "execution_count": 5,
      "metadata": {
        "colab": {
          "base_uri": "https://localhost:8080/"
        },
        "id": "MahCwFNEOZ8S",
        "outputId": "e21f2541-4b6a-4f79-b748-5f97f7400166"
      },
      "outputs": [
        {
          "output_type": "stream",
          "name": "stderr",
          "text": [
            "/usr/local/lib/python3.10/dist-packages/huggingface_hub/file_download.py:1132: FutureWarning: `resume_download` is deprecated and will be removed in version 1.0.0. Downloads always resume when possible. If you want to force a new download, use `force_download=True`.\n",
            "  warnings.warn(\n"
          ]
        },
        {
          "output_type": "stream",
          "name": "stdout",
          "text": [
            "Question is : What are the symptoms of COVID-19\n",
            "['2. What are the symptoms of COVID-19?'\n",
            " \"The most common symptoms of COVID-19 are fever, tiredness, and dry cough. Some patients   may have aches and pains, nasal congestion, runny nose, sore throat or diarrhea. These   symptoms are usually mild and begin gradually. Some people become infected but dont   develop any symptoms and don't feel unwell. Most people (about 80%) recover from the   disease without needing special treatment. Around 1 out of every 6 people who gets COVID-19   becomes seriously ill and develops difficulty breathing. Older people, and those with underlying   medical problems like high blood pressure, heart problems or diabetes, are more likely to   develop serious illness. People with fever, cough and difficulty breathing should seek medical   attention.\"]\n"
          ]
        }
      ],
      "source": [
        "import pandas as pd\n",
        "import numpy as np\n",
        "from sentence_transformers import SentenceTransformer,util\n",
        "import torch\n",
        "\n",
        "df = pd.read_csv(\"/content/COVID19_FAQ.csv\")\n",
        "df\n",
        "processed_qa_arr = df.to_numpy()\n",
        "\n",
        "model = SentenceTransformer(\"all-MiniLM-L6-v2\")\n",
        "\n",
        "question_qa_embedding = model.encode(processed_qa_arr)\n",
        "\n",
        "test_query = \"What are the symptoms of COVID-19\"\n",
        "\n",
        "test_query_embedding = model.encode(test_query)\n",
        "\n",
        "similarity_score = util.cos_sim(question_qa_embedding,test_query_embedding)\n",
        "index = similarity_score.argmax()\n",
        "answer = processed_qa_arr[index]\n",
        "print(\"Question is :\",test_query)\n",
        "print(answer)\n",
        "\n",
        "\n"
      ]
    }
  ]
}