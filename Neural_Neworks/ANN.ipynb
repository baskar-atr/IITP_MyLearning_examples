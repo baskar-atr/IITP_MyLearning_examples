{
  "cells": [
    {
      "cell_type": "code",
      "source": [
        "!pip install scikit-learn keras"
      ],
      "metadata": {
        "colab": {
          "base_uri": "https://localhost:8080/"
        },
        "id": "Nn8lY9GWJ77L",
        "outputId": "e4b4f702-fd70-4941-da19-af3df916213e"
      },
      "execution_count": 1,
      "outputs": [
        {
          "output_type": "stream",
          "name": "stdout",
          "text": [
            "Requirement already satisfied: scikit-learn in /usr/local/lib/python3.10/dist-packages (1.2.2)\n",
            "Requirement already satisfied: keras in /usr/local/lib/python3.10/dist-packages (2.15.0)\n",
            "Requirement already satisfied: numpy>=1.17.3 in /usr/local/lib/python3.10/dist-packages (from scikit-learn) (1.25.2)\n",
            "Requirement already satisfied: scipy>=1.3.2 in /usr/local/lib/python3.10/dist-packages (from scikit-learn) (1.11.4)\n",
            "Requirement already satisfied: joblib>=1.1.1 in /usr/local/lib/python3.10/dist-packages (from scikit-learn) (1.4.2)\n",
            "Requirement already satisfied: threadpoolctl>=2.0.0 in /usr/local/lib/python3.10/dist-packages (from scikit-learn) (3.5.0)\n"
          ]
        }
      ]
    },
    {
      "cell_type": "code",
      "source": [
        "import pandas as pd\n",
        "import numpy as np\n",
        "\n",
        "from sklearn.datasets import load_iris\n",
        "from sklearn.model_selection import train_test_split\n",
        "from sklearn.preprocessing import StandardScaler\n",
        "from sklearn.metrics import confusion_matrix\n",
        "\n",
        "from keras.models import Sequential\n",
        "from keras.layers import Dense\n",
        "from tensorflow.keras.optimizers import Adam\n",
        "import seaborn as sns\n",
        "import matplotlib.pyplot as plt\n"
      ],
      "metadata": {
        "id": "3ZMWMRRmHrVY"
      },
      "execution_count": 55,
      "outputs": []
    },
    {
      "cell_type": "code",
      "source": [
        "#load the IRis dataset\n",
        "\n",
        "iris_data = load_iris()\n",
        "\n",
        "#print(iris_data)\n",
        "X= iris_data.data\n",
        "y = (iris_data.target==0).astype(int) #Binary classification considering only setosa.\n",
        "\n",
        "#split the train and test data\n",
        "\n",
        "X_train, X_test,y_train,y_test = train_test_split(X,y,test_size=0.2,random_state=42)\n",
        "\n",
        "# Standardize the data\n",
        "scaller = StandardScaler()\n",
        "X_train = scaller.fit_transform(X_train)\n",
        "X_test = scaller.transform(X_test)\n"
      ],
      "metadata": {
        "id": "gg4-XhTjKn8Q"
      },
      "execution_count": 41,
      "outputs": []
    },
    {
      "cell_type": "code",
      "source": [
        "model = Sequential()\n",
        "\n",
        "#adding input layer\n",
        "model.add(Dense(units=6,activation='relu',input_dim=4))\n",
        "\n",
        "#add hidden layer\n",
        "model.add(Dense(units=6,activation='relu'))\n",
        "\n",
        "#add output layer\n",
        "model.add(Dense(units=1,activation='sigmoid'))"
      ],
      "metadata": {
        "id": "bBUwcMO1Od2v"
      },
      "execution_count": 42,
      "outputs": []
    },
    {
      "cell_type": "code",
      "source": [
        "model.compile(optimizer=Adam(learning_rate=0.001),loss='binary_crossentropy',metrics=['accuracy'])"
      ],
      "metadata": {
        "id": "eQoLhV_GPJBc"
      },
      "execution_count": 43,
      "outputs": []
    },
    {
      "cell_type": "code",
      "source": [
        "model.summary()"
      ],
      "metadata": {
        "colab": {
          "base_uri": "https://localhost:8080/"
        },
        "id": "jxZqpZzwPkJk",
        "outputId": "8ef9dfc0-c83e-4647-ed27-cb984250037d"
      },
      "execution_count": 44,
      "outputs": [
        {
          "output_type": "stream",
          "name": "stdout",
          "text": [
            "Model: \"sequential_1\"\n",
            "_________________________________________________________________\n",
            " Layer (type)                Output Shape              Param #   \n",
            "=================================================================\n",
            " dense_3 (Dense)             (None, 6)                 30        \n",
            "                                                                 \n",
            " dense_4 (Dense)             (None, 6)                 42        \n",
            "                                                                 \n",
            " dense_5 (Dense)             (None, 1)                 7         \n",
            "                                                                 \n",
            "=================================================================\n",
            "Total params: 79 (316.00 Byte)\n",
            "Trainable params: 79 (316.00 Byte)\n",
            "Non-trainable params: 0 (0.00 Byte)\n",
            "_________________________________________________________________\n"
          ]
        }
      ]
    },
    {
      "cell_type": "code",
      "source": [
        "model.fit(X_train,y_train,epochs=15,batch_size=8,validation_split=0.2)"
      ],
      "metadata": {
        "colab": {
          "base_uri": "https://localhost:8080/"
        },
        "id": "cBWRJJqBPq3n",
        "outputId": "22975d28-6793-4152-e68b-4db9917bd220"
      },
      "execution_count": 45,
      "outputs": [
        {
          "output_type": "stream",
          "name": "stdout",
          "text": [
            "Epoch 1/15\n",
            "12/12 [==============================] - 1s 19ms/step - loss: 0.6396 - accuracy: 0.5312 - val_loss: 0.6726 - val_accuracy: 0.4167\n",
            "Epoch 2/15\n",
            "12/12 [==============================] - 0s 4ms/step - loss: 0.6133 - accuracy: 0.6354 - val_loss: 0.6445 - val_accuracy: 0.5833\n",
            "Epoch 3/15\n",
            "12/12 [==============================] - 0s 6ms/step - loss: 0.5884 - accuracy: 0.8229 - val_loss: 0.6161 - val_accuracy: 0.8750\n",
            "Epoch 4/15\n",
            "12/12 [==============================] - 0s 4ms/step - loss: 0.5621 - accuracy: 0.8646 - val_loss: 0.5876 - val_accuracy: 0.9167\n",
            "Epoch 5/15\n",
            "12/12 [==============================] - 0s 4ms/step - loss: 0.5357 - accuracy: 0.8750 - val_loss: 0.5551 - val_accuracy: 0.9583\n",
            "Epoch 6/15\n",
            "12/12 [==============================] - 0s 4ms/step - loss: 0.5055 - accuracy: 0.9062 - val_loss: 0.5213 - val_accuracy: 0.9583\n",
            "Epoch 7/15\n",
            "12/12 [==============================] - 0s 4ms/step - loss: 0.4724 - accuracy: 0.9271 - val_loss: 0.4860 - val_accuracy: 0.9583\n",
            "Epoch 8/15\n",
            "12/12 [==============================] - 0s 6ms/step - loss: 0.4389 - accuracy: 0.9375 - val_loss: 0.4480 - val_accuracy: 0.9583\n",
            "Epoch 9/15\n",
            "12/12 [==============================] - 0s 5ms/step - loss: 0.4036 - accuracy: 0.9479 - val_loss: 0.4104 - val_accuracy: 0.9583\n",
            "Epoch 10/15\n",
            "12/12 [==============================] - 0s 4ms/step - loss: 0.3700 - accuracy: 0.9583 - val_loss: 0.3734 - val_accuracy: 0.9583\n",
            "Epoch 11/15\n",
            "12/12 [==============================] - 0s 4ms/step - loss: 0.3377 - accuracy: 0.9583 - val_loss: 0.3375 - val_accuracy: 0.9583\n",
            "Epoch 12/15\n",
            "12/12 [==============================] - 0s 5ms/step - loss: 0.3061 - accuracy: 0.9688 - val_loss: 0.3054 - val_accuracy: 0.9583\n",
            "Epoch 13/15\n",
            "12/12 [==============================] - 0s 5ms/step - loss: 0.2768 - accuracy: 0.9896 - val_loss: 0.2741 - val_accuracy: 0.9583\n",
            "Epoch 14/15\n",
            "12/12 [==============================] - 0s 5ms/step - loss: 0.2496 - accuracy: 0.9896 - val_loss: 0.2443 - val_accuracy: 1.0000\n",
            "Epoch 15/15\n",
            "12/12 [==============================] - 0s 4ms/step - loss: 0.2239 - accuracy: 0.9896 - val_loss: 0.2180 - val_accuracy: 1.0000\n"
          ]
        },
        {
          "output_type": "execute_result",
          "data": {
            "text/plain": [
              "<keras.src.callbacks.History at 0x7b97c5a962f0>"
            ]
          },
          "metadata": {},
          "execution_count": 45
        }
      ]
    },
    {
      "cell_type": "code",
      "source": [
        "\n",
        "y_pred= model.predict(X_test)\n",
        "y_pred = (y_pred > 0.2)\n",
        "\n",
        "loss,accuracy = model.evaluate(X_test,y_pred)\n",
        "print(f'Loss:{loss:.4f}, Accuracy:{accuracy:.4f}')\n",
        "\n",
        "matrix = confusion_matrix(y_test, y_pred)\n",
        "\n",
        "print(matrix)\n",
        "\n",
        "sns.heatmap(matrix,annot=True)\n",
        "plt.show()\n"
      ],
      "metadata": {
        "colab": {
          "base_uri": "https://localhost:8080/",
          "height": 517
        },
        "id": "Bn1vIeXeQSCl",
        "outputId": "896514da-9bda-4834-b74c-10bd998de55f"
      },
      "execution_count": 57,
      "outputs": [
        {
          "output_type": "stream",
          "name": "stdout",
          "text": [
            "1/1 [==============================] - 0s 89ms/step\n",
            "1/1 [==============================] - 0s 74ms/step - loss: 0.5502 - accuracy: 0.7000\n",
            "Loss:0.5502, Accuracy:0.7000\n",
            "[[11  9]\n",
            " [ 0 10]]\n"
          ]
        },
        {
          "output_type": "display_data",
          "data": {
            "text/plain": [
              "<Figure size 640x480 with 2 Axes>"
            ],
            "image/png": "[encoded data removed]"
          },
          "metadata": {}
        }
      ]
    }
  ],
  "metadata": {
    "colab": {
      "provenance": []
    },
    "kernelspec": {
      "display_name": "Python 3",
      "name": "python3"
    },
    "language_info": {
      "name": "python"
    }
  },
  "nbformat": 4,
  "nbformat_minor": 0
}