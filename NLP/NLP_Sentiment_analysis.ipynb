{
  "cells": [
    {
      "cell_type": "markdown",
      "metadata": {
        "id": "rw7ryof-7MtJ"
      },
      "source": [
        "NPL- Natural Language Processing\n",
        "Available methods are,\n",
        " 1. Removing stop words\n",
        " 2. Removing special characters\n",
        " 3. Stemming - remove prefix and postfies. Playing -> play\n",
        " 4. Lemmatizing - find the root word, went -> go, better -> good\n",
        " 5. Padding - Pre/post\n",
        " 6. Removing digits\n",
        " 7. Removing extra spaces"
      ]
    },
    {
      "cell_type": "code",
      "execution_count": 4,
      "metadata": {
        "id": "HIkc61cp6yD9"
      },
      "outputs": [],
      "source": [
        "import pandas as pd\n",
        "import numpy as np\n",
        "from sklearn.model_selection import train_test_split\n",
        "from sklearn.preprocessing import LabelEncoder\n",
        "from tensorflow.keras.preprocessing.text import Tokenizer\n",
        "from tensorflow.keras.preprocessing.sequence import pad_sequences\n",
        "from keras.models import Sequential\n",
        "from keras.layers import Embedding,Bidirectional,Dense,LSTM\n",
        "from keras.optimizers import Adam\n"
      ]
    },
    {
      "cell_type": "code",
      "execution_count": 5,
      "metadata": {
        "id": "OAMf6tXF7F9U"
      },
      "outputs": [],
      "source": [
        "data = pd.read_csv(\"movie.csv\",engine='python',encoding='utf-8',on_bad_lines='skip')\n",
        "\n",
        "X = data.iloc[:,0].values\n",
        "y = data.iloc[:,1].values\n",
        "\n",
        "X_train,X_test,y_train,y_test = train_test_split(X,y,test_size=0.25,random_state=0)\n",
        "#0 - Negative\n",
        "#1 -positive\n",
        "tokenizer = Tokenizer(num_words=20000)\n",
        "tokenizer.fit_on_texts(X_train)\n",
        "X_train = tokenizer.texts_to_sequences(X_train)\n",
        "X_test = tokenizer.texts_to_sequences(X_test)\n",
        "\n",
        "X_train = pad_sequences(X_train,padding='post')\n",
        "X_test = pad_sequences(X_test,padding=\"post\")\n",
        "\n",
        "vacabulary_count = len(tokenizer.word_counts)"
      ]
    },
    {
      "cell_type": "code",
      "execution_count": 6,
      "metadata": {
        "id": "LzpCNR2KBfUu"
      },
      "outputs": [],
      "source": [
        "model = Sequential()\n",
        "\n",
        "#adding input layer\n",
        "model.add(Embedding(vacabulary_count,64))\n",
        "\n",
        "#add hidden layer\n",
        "model.add(Bidirectional(LSTM(64)))\n",
        "\n",
        "#add hidden layer\n",
        "model.add(Dense(64,activation='relu'))\n",
        "\n",
        "#add output layer\n",
        "model.add(Dense(units=1))"
      ]
    },
    {
      "cell_type": "code",
      "execution_count": 7,
      "metadata": {
        "colab": {
          "base_uri": "https://localhost:8080/"
        },
        "id": "Gkgj9DnoEd4w",
        "outputId": "75b8c6aa-aabb-4b63-fe7f-9720b5e18aa2"
      },
      "outputs": [
        {
          "name": "stdout",
          "output_type": "stream",
          "text": [
            "Model: \"sequential\"\n",
            "_________________________________________________________________\n",
            " Layer (type)                Output Shape              Param #   \n",
            "=================================================================\n",
            " embedding (Embedding)       (None, None, 64)          6316608   \n",
            "                                                                 \n",
            " bidirectional (Bidirection  (None, 128)               66048     \n",
            " al)                                                             \n",
            "                                                                 \n",
            " dense (Dense)               (None, 64)                8256      \n",
            "                                                                 \n",
            " dense_1 (Dense)             (None, 1)                 65        \n",
            "                                                                 \n",
            "=================================================================\n",
            "Total params: 6390977 (24.38 MB)\n",
            "Trainable params: 6390977 (24.38 MB)\n",
            "Non-trainable params: 0 (0.00 Byte)\n",
            "_________________________________________________________________\n"
          ]
        }
      ],
      "source": [
        "model.compile(optimizer=Adam(learning_rate=0.001),loss='binary_crossentropy',metrics=['accuracy'])\n",
        "model.summary()"
      ]
    },
    {
      "cell_type": "code",
      "execution_count": null,
      "metadata": {
        "colab": {
          "base_uri": "https://localhost:8080/"
        },
        "id": "LXK7d1VjFKpu",
        "outputId": "2b3b8899-98fd-450b-d6d5-20099cad7fe8"
      },
      "outputs": [
        {
          "name": "stdout",
          "output_type": "stream",
          "text": [
            "Epoch 1/5\n",
            "938/938 [==============================] - 225s 231ms/step - loss: 0.5992 - accuracy: 0.6901 - val_loss: 0.5302 - val_accuracy: 0.7642\n",
            "Epoch 2/5\n",
            "938/938 [==============================] - 164s 174ms/step - loss: 0.4602 - accuracy: 0.8059 - val_loss: 0.4946 - val_accuracy: 0.8270\n",
            "Epoch 3/5\n",
            "938/938 [==============================] - 147s 156ms/step - loss: 0.3995 - accuracy: 0.8526 - val_loss: 0.5857 - val_accuracy: 0.8070\n",
            "Epoch 4/5\n",
            "938/938 [==============================] - 138s 147ms/step - loss: 0.4014 - accuracy: 0.8618 - val_loss: 0.4805 - val_accuracy: 0.8054\n",
            "Epoch 5/5\n",
            "351/938 [==========>...................] - ETA: 1:11 - loss: 0.2269 - accuracy: 0.9345"
          ]
        }
      ],
      "source": [
        "history = model.fit(X_train,y_train,epochs=5,validation_data=(X_test,y_test))\n",
        "y_pred = model.predict(X_test)\n",
        "loss,accuracy = model.evaluate(X_test,y_pred)"
      ]
    }
  ],
  "metadata": {
    "accelerator": "GPU",
    "colab": {
      "gpuType": "T4",
      "provenance": []
    },
    "kernelspec": {
      "display_name": "Python 3",
      "name": "python3"
    },
    "language_info": {
      "name": "python"
    }
  },
  "nbformat": 4,
  "nbformat_minor": 0
}
